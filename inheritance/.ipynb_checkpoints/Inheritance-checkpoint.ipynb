{
 "cells": [
  {
   "cell_type": "markdown",
   "metadata": {},
   "source": [
    "# Inheritance In Javascript "
   ]
  },
  {
   "cell_type": "markdown",
   "metadata": {},
   "source": [
    "## Important Terms:\n",
    "\n",
    "### <span style=\"color:red;\">1. Prototype : A Prototype is like a blueprint object for the object. </span>\n",
    "> <span style=\"color:brown;font-size:1.5em\">The object's Parent is called its prototype.</span>\n",
    "\n",
    "\n",
    "___"
   ]
  },
  {
   "cell_type": "markdown",
   "metadata": {},
   "source": [
    "## Inheritance:\n",
    "\n",
    "### <span style=\"color:green;\"> **When a generic object is created its prototype passes it many important properties. Inheritance helps in avoiding over-coding multiple properties and methods into similar objects.**</span>\n",
    "> <span style=\"color:brown;font-size:1.5em\">Passing down properties from prototype to child object is called inheritance</span>\n"
   ]
  },
  {
   "cell_type": "markdown",
   "metadata": {},
   "source": [
    "### Even All the native js data structures inherits all of their properties and methods from their own prototype, and Object Prototype is present at highest level of hierarchy, that is, all other data structures inherits some hidden properties from Object prototype."
   ]
  },
  {
   "cell_type": "markdown",
   "metadata": {},
   "source": [
    "|   | |<span style=\"color:red;\">****Object Prototype**** </span> |   |  |\n",
    "|---|---|---|---|\n",
    "| <span style=\"color:green;\">**Array Prototype**</span>  | <span style=\"color:green;\">**String Prototype** </span> |   <span style=\"color:green;\">**Number Prototype**</span>| <span style=\"color:green;\"> **Funtion Prototype** </span>| --------- | \n",
    "|pop(),push()   |charAt(),trim()   |toPrecision(),toFixed()   |name,call()   |  --------- |\n",
    "|reverse() etc.   |replace() etc.   |toExponential() etc.   | bind(),apply(),etc  | --------- |  "
   ]
  },
  {
   "cell_type": "markdown",
   "metadata": {},
   "source": [
    "### All the object have some properties that are given to them as soon as they created, these are:\n",
    "\n",
    "> <a name=\"isPrototypeOf\"><span style=\"color:brown;font-size:1.5em\">1. valueOf</span></a><br>\n",
    "> <a name=\"isPrototypeOf\"><span style=\"color:brown;font-size:1.5em\">2. constructor</span></a><br>\n",
    "> <a name=\"isPrototypeOf\"><span style=\"color:brown;font-size:1.5em\">3. toLocalString</span></a><br>\n",
    "> <a name=\"isPrototypeOf\"><span style=\"color:brown;font-size:1.5em\">4. toString</span></a><br>\n",
    "> <a name=\"isPrototypeOf\"><span style=\"color:brown;font-size:1.5em\">5. isPrototypeOf</span></a><br>\n",
    "> <a name=\"isPrototypeOf\"><span style=\"color:brown;font-size:1.5em\">6. propertyIsEnumerable</span></a><br>\n",
    "> <a name=\"isPrototypeOf\"><span style=\"color:brown;font-size:1.5em\">7. hasOwnProperty</span></a><br>\n",
    "\n",
    "______"
   ]
  },
  {
   "cell_type": "markdown",
   "metadata": {},
   "source": [
    "# Chaining:"
   ]
  },
  {
   "cell_type": "markdown",
   "metadata": {},
   "source": [
    "### let say a string object is created and it calls **hasOwnProperty** then this object search this property first in String object  and if it fails to find there then it goes to Object prototype and search there and as soon its find the property it stops there.\n"
   ]
  },
  {
   "cell_type": "markdown",
   "metadata": {},
   "source": [
    "#### Example1:\n",
    "![chaining pic](./img/img1.png \"chaining\")"
   ]
  },
  {
   "cell_type": "code",
   "execution_count": 10,
   "metadata": {},
   "outputs": [
    {
     "name": "stdout",
     "output_type": "stream",
     "text": [
      "false\n"
     ]
    }
   ],
   "source": [
    "var s = \"CheckinghasOwnProperty\";\n",
    "console.log(s.hasOwnProperty());"
   ]
  },
  {
   "cell_type": "markdown",
   "metadata": {},
   "source": [
    "---\n",
    "#### Example2:\n",
    "![chaining pic](./img/img2.png \"chaining\")"
   ]
  },
  {
   "cell_type": "code",
   "execution_count": 4,
   "metadata": {},
   "outputs": [
    {
     "data": {
      "text/plain": [
       "'e'"
      ]
     },
     "execution_count": 4,
     "metadata": {},
     "output_type": "execute_result"
    }
   ],
   "source": [
    "var s = \"hello\";\n",
    "s.charAt(1);"
   ]
  },
  {
   "cell_type": "markdown",
   "metadata": {},
   "source": [
    "---"
   ]
  },
  {
   "cell_type": "markdown",
   "metadata": {},
   "source": [
    "## Adding Inheritable Properties to Prototypes:\n",
    "\n",
    "### We can add properties to prototypes so that it could be used by its child objects\n",
    "\n",
    "### Example : Let say we want to add property \"greetings\" to String Prototype. we can do that as:"
   ]
  },
  {
   "cell_type": "code",
   "execution_count": 15,
   "metadata": {},
   "outputs": [
    {
     "name": "stdout",
     "output_type": "stream",
     "text": [
      "Hello Vishal !!\n"
     ]
    }
   ],
   "source": [
    "String.prototype.greetings = function(){\n",
    "                                return \"Hello \"+this+\" !!\" ; \n",
    "                            }\n",
    "// testing\n",
    "var s = \"Vishal\";\n",
    "console.log(s.greetings())"
   ]
  },
  {
   "cell_type": "markdown",
   "metadata": {},
   "source": [
    "---"
   ]
  },
  {
   "cell_type": "markdown",
   "metadata": {},
   "source": [
    "## <span style=\"color:blue;\">Another way to build objects using</span> <span style=\"color:red;\">Object.create()</span>"
   ]
  },
  {
   "cell_type": "markdown",
   "metadata": {},
   "source": [
    "### Using inheritance, we can create new object with our existing Object as prototype.\n",
    "Example:"
   ]
  },
  {
   "cell_type": "code",
   "execution_count": 29,
   "metadata": {},
   "outputs": [
    {
     "name": "stdout",
     "output_type": "stream",
     "text": [
      "Parent Object :  { a: 3, b: 9 }\n",
      "Child Object's a :  3 , and b : 9\n"
     ]
    }
   ],
   "source": [
    "var parentObject = {a:3,b:9};\n",
    "var childObject = Object.create(parentObject);\n",
    "\n",
    "console.log(\"Parent Object : \",parentObject);\n",
    "console.log(\"Child Object's a : \",childObject.a,\", and b :\",childObject.b);"
   ]
  },
  {
   "cell_type": "markdown",
   "metadata": {},
   "source": [
    "### We can"
   ]
  },
  {
   "cell_type": "code",
   "execution_count": null,
   "metadata": {},
   "outputs": [],
   "source": [
    "console.log"
   ]
  }
 ],
 "metadata": {
  "kernelspec": {
   "display_name": "Javascript (Node.js)",
   "language": "javascript",
   "name": "javascript"
  },
  "language_info": {
   "file_extension": ".js",
   "mimetype": "application/javascript",
   "name": "javascript",
   "version": "8.11.0"
  }
 },
 "nbformat": 4,
 "nbformat_minor": 2
}
