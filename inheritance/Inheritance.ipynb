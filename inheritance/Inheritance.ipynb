{
 "cells": [
  {
   "cell_type": "markdown",
   "metadata": {},
   "source": [
    "# Inheritance In Javascript "
   ]
  },
  {
   "cell_type": "markdown",
   "metadata": {},
   "source": [
    "## Important Terms:\n",
    "\n",
    "### <span style=\"color:red;\">1. Prototype : A Prototype is like a blueprint object for the object. </span>\n",
    "> <span style=\"color:brown;font-size:1.5em\">The object's Parent is called its prototype.</span>\n",
    "\n",
    "\n",
    "___"
   ]
  },
  {
   "cell_type": "markdown",
   "metadata": {},
   "source": [
    "## <span style=\"color:blue;font-size:1em\">Inheritance:</span>\n",
    "\n",
    "### **When a generic object is created its prototype passes it many important properties. Inheritance helps in avoiding over-coding multiple properties and methods into similar objects.**\n",
    "> <span style=\"color:brown;font-size:1.5em\">Passing down properties from prototype to child object is called inheritance</span>\n"
   ]
  },
  {
   "cell_type": "markdown",
   "metadata": {},
   "source": [
    "### Even All the native js data structures inherits all of their properties and methods from their own prototype, and Object Prototype is present at highest level of hierarchy, that is, all other data structures inherits some hidden properties from Object prototype."
   ]
  },
  {
   "cell_type": "markdown",
   "metadata": {},
   "source": [
    "|   | |<span style=\"color:red;\">****Object Prototype**** </span> |   |  |\n",
    "|---|---|---|---|\n",
    "| <span style=\"color:green;\">**Array Prototype**</span>  | <span style=\"color:green;\">**String Prototype** </span> |   <span style=\"color:green;\">**Number Prototype**</span>| <span style=\"color:green;\"> **Funtion Prototype** </span>| --------- | \n",
    "|pop(),push()   |charAt(),trim()   |toPrecision(),toFixed()   |name,call()   |  --------- |\n",
    "|reverse() etc.   |replace() etc.   |toExponential() etc.   | bind(),apply(),etc  | --------- |  "
   ]
  },
  {
   "cell_type": "markdown",
   "metadata": {},
   "source": [
    "### All the object have some properties that are given to them as soon as they created, these are:\n",
    "\n",
    "> <a name=\"valueOf\"></a><span style=\"color:brown;font-size:1.5em\">1. valueOf</span><br>\n",
    "> <a name=\"constructor\"></a><span style=\"color:brown;font-size:1.5em\">2. constructor</span><br>\n",
    "> <a name=\"toLocalString\"></a><span style=\"color:brown;font-size:1.5em\">3. toLocalString</span><br>\n",
    "> <a name=\"toString\"></a><span style=\"color:brown;font-size:1.5em\">4. toString</span><br>\n",
    "> <a name=\"isPrototypeOf\"></a><span style=\"color:brown;font-size:1.5em\">5. isPrototypeOf</span><br>\n",
    "> <a name=\"propertyIsEnumerable\"></a><span style=\"color:brown;font-size:1.5em\">6. propertyIsEnumerable</span><br>\n",
    "> <a name=\"hasOwnProperty\"></a><span style=\"color:brown;font-size:1.5em\">7. hasOwnProperty</span><br>\n",
    "\n",
    "______"
   ]
  },
  {
   "cell_type": "markdown",
   "metadata": {},
   "source": [
    "# <span style=\"color:blue;font-size:1em\">Chaining:</span>"
   ]
  },
  {
   "cell_type": "markdown",
   "metadata": {},
   "source": [
    "### let say a string object is created and it calls **hasOwnProperty** then this object search this property first in String object  and if it fails to find there then it goes to Object prototype and search there and as soon its find the property it stops there.\n"
   ]
  },
  {
   "cell_type": "markdown",
   "metadata": {},
   "source": [
    "#### Example1:\n",
    "![chaining pic](./img/img1.png \"chaining\")"
   ]
  },
  {
   "cell_type": "code",
   "execution_count": 1,
   "metadata": {},
   "outputs": [
    {
     "name": "stdout",
     "output_type": "stream",
     "text": [
      "false\n"
     ]
    }
   ],
   "source": [
    "var s = \"CheckinghasOwnProperty\";\n",
    "console.log(s.hasOwnProperty());"
   ]
  },
  {
   "cell_type": "markdown",
   "metadata": {},
   "source": [
    "---\n",
    "#### Example2:\n",
    "![chaining pic](./img/img2.png \"chaining\")"
   ]
  },
  {
   "cell_type": "code",
   "execution_count": 2,
   "metadata": {},
   "outputs": [
    {
     "data": {
      "text/plain": [
       "'e'"
      ]
     },
     "execution_count": 2,
     "metadata": {},
     "output_type": "execute_result"
    }
   ],
   "source": [
    "var s = \"hello\";\n",
    "s.charAt(1);"
   ]
  },
  {
   "cell_type": "markdown",
   "metadata": {},
   "source": [
    "---"
   ]
  },
  {
   "cell_type": "markdown",
   "metadata": {},
   "source": [
    "## Adding Inheritable Properties to Prototypes:\n",
    "\n",
    "### We can add properties to prototypes so that it could be used by its child objects\n",
    "\n",
    "### Example : Let say we want to add property \"greetings\" to String Prototype. we can do that as:"
   ]
  },
  {
   "cell_type": "code",
   "execution_count": 3,
   "metadata": {},
   "outputs": [
    {
     "name": "stdout",
     "output_type": "stream",
     "text": [
      "Hello Vishal !!\n"
     ]
    }
   ],
   "source": [
    "String.prototype.greetings = function(){\n",
    "                                return \"Hello \"+this+\" !!\" ; \n",
    "                            }\n",
    "// testing\n",
    "var s = \"Vishal\";\n",
    "console.log(s.greetings())"
   ]
  },
  {
   "cell_type": "markdown",
   "metadata": {},
   "source": [
    "---"
   ]
  },
  {
   "cell_type": "markdown",
   "metadata": {},
   "source": [
    "## <span style=\"color:blue;\">Another way to build objects using</span> <span style=\"color:red;\">Object.create()</span>"
   ]
  },
  {
   "cell_type": "markdown",
   "metadata": {},
   "source": [
    "### Using inheritance, we can create new object with our existing Object as prototype.\n",
    "Example:"
   ]
  },
  {
   "cell_type": "code",
   "execution_count": 4,
   "metadata": {},
   "outputs": [
    {
     "name": "stdout",
     "output_type": "stream",
     "text": [
      "Parent Object :  { a: 1, b: 2 }\n",
      "Child Object's a :  1 , and b : 2\n"
     ]
    }
   ],
   "source": [
    "var parentObject = {a:1,b:2};\n",
    "var childObject = Object.create(parentObject);\n",
    "\n",
    "console.log(\"Parent Object : \",parentObject);\n",
    "console.log(\"Child Object's a : \",childObject.a,\", and b :\",childObject.b);"
   ]
  },
  {
   "cell_type": "markdown",
   "metadata": {},
   "source": [
    "### We can add other properties to child objects too."
   ]
  },
  {
   "cell_type": "code",
   "execution_count": 5,
   "metadata": {},
   "outputs": [
    {
     "data": {
      "text/plain": [
       "3"
      ]
     },
     "execution_count": 5,
     "metadata": {},
     "output_type": "execute_result"
    }
   ],
   "source": [
    "childObject.c = 3;"
   ]
  },
  {
   "cell_type": "markdown",
   "metadata": {},
   "source": [
    "### To check whether a particular object is <span style=\"color:red;\">ancestor or prototype </span> of another object, we can use  [isPrototypeOf](#isPrototypeOf)  property of Object."
   ]
  },
  {
   "cell_type": "code",
   "execution_count": 6,
   "metadata": {},
   "outputs": [
    {
     "name": "stdout",
     "output_type": "stream",
     "text": [
      "true\n",
      "true\n",
      "true\n",
      "false\n",
      "false\n",
      "false\n"
     ]
    }
   ],
   "source": [
    "console.log(Object.prototype.isPrototypeOf(parentObject)) // or console.log(Object.isPrototypeOf(parentObject))\n",
    "console.log(Object.prototype.isPrototypeOf(childObject))\n",
    "\n",
    "console.log(parentObject.isPrototypeOf(childObject))\n",
    "console.log(childObject.isPrototypeOf(parentObject))\n",
    "\n",
    "console.log(parentObject.isPrototypeOf(Object))\n",
    "console.log(childObject.isPrototypeOf(Object))"
   ]
  },
  {
   "cell_type": "markdown",
   "metadata": {},
   "source": [
    "---\n",
    "## <span style=\"color:blue;\">Class :</span> \n",
    "> <span style=\"color:brown;font-size:1.5em\">A Class is a set of objects that all share and inherit from the same basic prototype.</span>"
   ]
  },
  {
   "cell_type": "markdown",
   "metadata": {},
   "source": [
    "## <span style=\"color:blue;\">Constructor :</span> \n",
    "> <span style=\"color:brown;font-size:1.5em\">A constructor allows us to setup inheritance while also assigning specific property values.</span>\n",
    ">> <span style=\"color:green;font-size:1em\">\"Generally the name of constructor starts with capital letter\"</span>\n",
    "\n",
    "Example:"
   ]
  },
  {
   "cell_type": "code",
   "execution_count": 7,
   "metadata": {},
   "outputs": [
    {
     "data": {
      "text/plain": [
       "{ printValues: [Function: printValues] }"
      ]
     },
     "execution_count": 7,
     "metadata": {},
     "output_type": "execute_result"
    }
   ],
   "source": [
    "function Xconstructor(a,b=1){          // here default value of b is 1.\n",
    "    this.a = a;\n",
    "    this.b = b;\n",
    "}\n",
    "\n",
    "//Now declaring prototype methods which will be same for all child objects:\n",
    "Xconstructor.prototype = {\n",
    "    printValues : function(){\n",
    "                    console.log(\"Values are, a = \",this.a,\" and b = \",this.b);\n",
    "                }\n",
    "}"
   ]
  },
  {
   "cell_type": "markdown",
   "metadata": {},
   "source": [
    "## <span style=\"color:blue;\">new :</span> \n",
    "> <span style=\"color:brown;font-size:1.5em\">\"new\" keyword produces a new object of class</span>\n",
    ">> <span style=\"color:green;font-size:1em\">It instantiates the class</span>"
   ]
  },
  {
   "cell_type": "code",
   "execution_count": 8,
   "metadata": {},
   "outputs": [
    {
     "name": "stdout",
     "output_type": "stream",
     "text": [
      "Values are, a =  1  and b =  1\n"
     ]
    }
   ],
   "source": [
    "var x1 = new Xconstructor(1)           // a=1,b=1(default)\n",
    "var x2 = new Xconstructor(1,2)        //  a=1,b=2\n",
    "\n",
    "x1.printValues()"
   ]
  },
  {
   "cell_type": "code",
   "execution_count": 9,
   "metadata": {},
   "outputs": [
    {
     "name": "stdout",
     "output_type": "stream",
     "text": [
      "Values are, a =  1  and b =  2\n"
     ]
    }
   ],
   "source": [
    "x2.printValues()"
   ]
  },
  {
   "cell_type": "markdown",
   "metadata": {},
   "source": [
    "---"
   ]
  },
  {
   "cell_type": "markdown",
   "metadata": {},
   "source": [
    "<span style=\"color:blue;font-size:1.5em\">Overriding prototypal properties</span>\n",
    "\n",
    "#### lets override printValues funtion (above) for chld objects."
   ]
  },
  {
   "cell_type": "code",
   "execution_count": 10,
   "metadata": {},
   "outputs": [
    {
     "data": {
      "text/plain": [
       "[Function]"
      ]
     },
     "execution_count": 10,
     "metadata": {},
     "output_type": "execute_result"
    }
   ],
   "source": [
    "x1.printValues = function(){\n",
    "    console.log(\"overriden method..\");\n",
    "}"
   ]
  },
  {
   "cell_type": "code",
   "execution_count": 11,
   "metadata": {},
   "outputs": [
    {
     "name": "stdout",
     "output_type": "stream",
     "text": [
      "overriden method..\n"
     ]
    }
   ],
   "source": [
    "x1.printValues()            // here printValues() is overriden"
   ]
  },
  {
   "cell_type": "code",
   "execution_count": 12,
   "metadata": {},
   "outputs": [
    {
     "name": "stdout",
     "output_type": "stream",
     "text": [
      "Values are, a =  1  and b =  2\n"
     ]
    }
   ],
   "source": [
    "x2.printValues()"
   ]
  },
  {
   "cell_type": "markdown",
   "metadata": {},
   "source": [
    "#### lets override for other all child object."
   ]
  },
  {
   "cell_type": "code",
   "execution_count": 13,
   "metadata": {},
   "outputs": [
    {
     "data": {
      "text/plain": [
       "[Function]"
      ]
     },
     "execution_count": 13,
     "metadata": {},
     "output_type": "execute_result"
    }
   ],
   "source": [
    "Xconstructor.prototype.printValues = function(){\n",
    "    console.log(\"overriden again..\")\n",
    "}"
   ]
  },
  {
   "cell_type": "code",
   "execution_count": 14,
   "metadata": {},
   "outputs": [],
   "source": [
    "var x3 = new Xconstructor(3,4)"
   ]
  },
  {
   "cell_type": "code",
   "execution_count": 15,
   "metadata": {},
   "outputs": [
    {
     "name": "stdout",
     "output_type": "stream",
     "text": [
      "overriden method..\n",
      "overriden again..\n",
      "overriden again..\n"
     ]
    }
   ],
   "source": [
    "x1.printValues()\n",
    "x2.printValues()\n",
    "x3.printValues()"
   ]
  },
  {
   "cell_type": "markdown",
   "metadata": {},
   "source": [
    "<hr/>"
   ]
  }
 ],
 "metadata": {
  "kernelspec": {
   "display_name": "Javascript (Node.js)",
   "language": "javascript",
   "name": "javascript"
  },
  "language_info": {
   "file_extension": ".js",
   "mimetype": "application/javascript",
   "name": "javascript",
   "version": "8.11.0"
  }
 },
 "nbformat": 4,
 "nbformat_minor": 2
}
